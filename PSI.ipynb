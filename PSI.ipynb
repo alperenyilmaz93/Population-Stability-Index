{
 "cells": [
  {
   "cell_type": "code",
   "execution_count": 1,
   "metadata": {},
   "outputs": [
    {
     "data": {
      "text/plain": [
       "'/Users/alpereny/Desktop'"
      ]
     },
     "execution_count": 1,
     "metadata": {},
     "output_type": "execute_result"
    }
   ],
   "source": [
    "import os\n",
    "os.getcwd( )"
   ]
  },
  {
   "cell_type": "code",
   "execution_count": 2,
   "metadata": {},
   "outputs": [],
   "source": [
    "#Installing Libraries \n",
    "import numpy as np\n",
    "import pandas as pd\n",
    "import seaborn as sns"
   ]
  },
  {
   "cell_type": "code",
   "execution_count": 3,
   "metadata": {},
   "outputs": [],
   "source": [
    "#creating random 1000 variables \n",
    "trained = np.random.rand(1000)\n",
    "new = np.random.rand(1000)"
   ]
  },
  {
   "cell_type": "code",
   "execution_count": 4,
   "metadata": {},
   "outputs": [
    {
     "data": {
      "image/png": "[encoded data removed]",
      "text/plain": [
       "<Figure size 432x288 with 1 Axes>"
      ]
     },
     "metadata": {},
     "output_type": "display_data"
    }
   ],
   "source": [
    "#Overlaying two datasets \n",
    "sns.set_style(\"white\")\n",
    "plot = sns.kdeplot(trained, shade=True)\n",
    "plot = sns.kdeplot(new, shade=True)\n",
    "plot.set(yticklabels=[], xticklabels = [])\n",
    "sns.despine(left=True)"
   ]
  },
  {
   "cell_type": "code",
   "execution_count": 11,
   "metadata": {},
   "outputs": [],
   "source": [
    "#Binning Formula\n",
    "def scale_range (input, min, max):\n",
    "    input += -(np.min(input))\n",
    "    input /= np.max(input) / (max - min)\n",
    "    input += min\n",
    "    return input\n",
    "\n",
    "#Creating Breakpoints\n",
    "buckets = 10\n",
    "raw_breakpoints = np.arange(0, buckets + 1) / (buckets) * 100\n",
    "breakpoints = scale_range(raw_breakpoints, np.min(trained), np.max(trained))"
   ]
  },
  {
   "cell_type": "code",
   "execution_count": 51,
   "metadata": {
    "scrolled": true
   },
   "outputs": [
    {
     "name": "stdout",
     "output_type": "stream",
     "text": [
      "[6.68412e-04 1.00326e-01 1.99983e-01 2.99641e-01 3.99299e-01 4.98956e-01\n",
      " 5.98614e-01 6.98271e-01 7.97929e-01 8.97586e-01 9.97244e-01]\n"
     ]
    }
   ],
   "source": [
    "print(raw_breakpoints)"
   ]
  },
  {
   "cell_type": "code",
   "execution_count": 42,
   "metadata": {},
   "outputs": [
    {
     "name": "stdout",
     "output_type": "stream",
     "text": [
      "[6.68412e-04 1.00326e-01 1.99983e-01 2.99641e-01 3.99299e-01 4.98956e-01\n",
      " 5.98614e-01 6.98271e-01 7.97929e-01 8.97586e-01 9.97244e-01]\n"
     ]
    }
   ],
   "source": [
    "print(breakpoints)"
   ]
  },
  {
   "cell_type": "code",
   "execution_count": 43,
   "metadata": {},
   "outputs": [],
   "source": [
    "#distribution of values on breakpoints\n",
    "initial_counts = np.histogram(trained, breakpoints)[0]\n",
    "new_counts = np.histogram(new, breakpoints)[0]"
   ]
  },
  {
   "cell_type": "code",
   "execution_count": 44,
   "metadata": {},
   "outputs": [
    {
     "data": {
      "text/html": [
       "<div>\n",
       "<style scoped>\n",
       "    .dataframe tbody tr th:only-of-type {\n",
       "        vertical-align: middle;\n",
       "    }\n",
       "\n",
       "    .dataframe tbody tr th {\n",
       "        vertical-align: top;\n",
       "    }\n",
       "\n",
       "    .dataframe thead th {\n",
       "        text-align: right;\n",
       "    }\n",
       "</style>\n",
       "<table border=\"1\" class=\"dataframe\">\n",
       "  <thead>\n",
       "    <tr style=\"text-align: right;\">\n",
       "      <th></th>\n",
       "      <th>Bucket</th>\n",
       "      <th>Breakpoint Value</th>\n",
       "      <th>trained Count</th>\n",
       "      <th>New Count</th>\n",
       "      <th>trained Percent</th>\n",
       "      <th>New Percent</th>\n",
       "    </tr>\n",
       "  </thead>\n",
       "  <tbody>\n",
       "    <tr>\n",
       "      <td>0</td>\n",
       "      <td>1</td>\n",
       "      <td>0.10</td>\n",
       "      <td>118</td>\n",
       "      <td>107</td>\n",
       "      <td>0.12</td>\n",
       "      <td>0.11</td>\n",
       "    </tr>\n",
       "    <tr>\n",
       "      <td>1</td>\n",
       "      <td>2</td>\n",
       "      <td>0.20</td>\n",
       "      <td>112</td>\n",
       "      <td>111</td>\n",
       "      <td>0.11</td>\n",
       "      <td>0.11</td>\n",
       "    </tr>\n",
       "    <tr>\n",
       "      <td>2</td>\n",
       "      <td>3</td>\n",
       "      <td>0.30</td>\n",
       "      <td>100</td>\n",
       "      <td>93</td>\n",
       "      <td>0.10</td>\n",
       "      <td>0.09</td>\n",
       "    </tr>\n",
       "    <tr>\n",
       "      <td>3</td>\n",
       "      <td>4</td>\n",
       "      <td>0.40</td>\n",
       "      <td>91</td>\n",
       "      <td>106</td>\n",
       "      <td>0.09</td>\n",
       "      <td>0.11</td>\n",
       "    </tr>\n",
       "    <tr>\n",
       "      <td>4</td>\n",
       "      <td>5</td>\n",
       "      <td>0.50</td>\n",
       "      <td>108</td>\n",
       "      <td>94</td>\n",
       "      <td>0.11</td>\n",
       "      <td>0.09</td>\n",
       "    </tr>\n",
       "    <tr>\n",
       "      <td>5</td>\n",
       "      <td>6</td>\n",
       "      <td>0.60</td>\n",
       "      <td>96</td>\n",
       "      <td>87</td>\n",
       "      <td>0.10</td>\n",
       "      <td>0.09</td>\n",
       "    </tr>\n",
       "    <tr>\n",
       "      <td>6</td>\n",
       "      <td>7</td>\n",
       "      <td>0.70</td>\n",
       "      <td>97</td>\n",
       "      <td>111</td>\n",
       "      <td>0.10</td>\n",
       "      <td>0.11</td>\n",
       "    </tr>\n",
       "    <tr>\n",
       "      <td>7</td>\n",
       "      <td>8</td>\n",
       "      <td>0.80</td>\n",
       "      <td>86</td>\n",
       "      <td>101</td>\n",
       "      <td>0.09</td>\n",
       "      <td>0.10</td>\n",
       "    </tr>\n",
       "    <tr>\n",
       "      <td>8</td>\n",
       "      <td>9</td>\n",
       "      <td>0.90</td>\n",
       "      <td>97</td>\n",
       "      <td>90</td>\n",
       "      <td>0.10</td>\n",
       "      <td>0.09</td>\n",
       "    </tr>\n",
       "    <tr>\n",
       "      <td>9</td>\n",
       "      <td>10</td>\n",
       "      <td>1.00</td>\n",
       "      <td>95</td>\n",
       "      <td>98</td>\n",
       "      <td>0.10</td>\n",
       "      <td>0.10</td>\n",
       "    </tr>\n",
       "  </tbody>\n",
       "</table>\n",
       "</div>"
      ],
      "text/plain": [
       "   Bucket  Breakpoint Value  trained Count  New Count  trained Percent  \\\n",
       "0       1              0.10            118        107             0.12   \n",
       "1       2              0.20            112        111             0.11   \n",
       "2       3              0.30            100         93             0.10   \n",
       "3       4              0.40             91        106             0.09   \n",
       "4       5              0.50            108         94             0.11   \n",
       "5       6              0.60             96         87             0.10   \n",
       "6       7              0.70             97        111             0.10   \n",
       "7       8              0.80             86        101             0.09   \n",
       "8       9              0.90             97         90             0.10   \n",
       "9      10              1.00             95         98             0.10   \n",
       "\n",
       "   New Percent  \n",
       "0         0.11  \n",
       "1         0.11  \n",
       "2         0.09  \n",
       "3         0.11  \n",
       "4         0.09  \n",
       "5         0.09  \n",
       "6         0.11  \n",
       "7         0.10  \n",
       "8         0.09  \n",
       "9         0.10  "
      ]
     },
     "execution_count": 44,
     "metadata": {},
     "output_type": "execute_result"
    }
   ],
   "source": [
    "#Creating Dataframe with findings\n",
    "df = pd.DataFrame({'Bucket': np.arange(1, 11), 'Breakpoint Value':breakpoints[1:],\n",
    "                   'trained Count':initial_counts, 'New Count':new_counts})\n",
    "    \n",
    "df['trained Percent'] = df['trained Count'] / len(trained)\n",
    "df['New Percent'] = df['New Count'] / len(new)\n",
    "df"
   ]
  },
  {
   "cell_type": "code",
   "execution_count": 46,
   "metadata": {},
   "outputs": [
    {
     "data": {
      "text/plain": [
       "0.011628390253638023"
      ]
     },
     "execution_count": 46,
     "metadata": {},
     "output_type": "execute_result"
    }
   ],
   "source": [
    "#Calculating PSI\n",
    "df['PSI'] = (df['New Percent'] - df['trained Percent']) * np.log(df['New Percent'] / df['trained Percent'])\n",
    "\n",
    "np.sum(df['PSI'])"
   ]
  },
  {
   "cell_type": "code",
   "execution_count": 47,
   "metadata": {},
   "outputs": [
    {
     "data": {
      "text/html": [
       "<div>\n",
       "<style scoped>\n",
       "    .dataframe tbody tr th:only-of-type {\n",
       "        vertical-align: middle;\n",
       "    }\n",
       "\n",
       "    .dataframe tbody tr th {\n",
       "        vertical-align: top;\n",
       "    }\n",
       "\n",
       "    .dataframe thead th {\n",
       "        text-align: right;\n",
       "    }\n",
       "</style>\n",
       "<table border=\"1\" class=\"dataframe\">\n",
       "  <thead>\n",
       "    <tr style=\"text-align: right;\">\n",
       "      <th></th>\n",
       "      <th>Bucket</th>\n",
       "      <th>Breakpoint Value</th>\n",
       "      <th>trained Count</th>\n",
       "      <th>New Count</th>\n",
       "      <th>trained Percent</th>\n",
       "      <th>New Percent</th>\n",
       "      <th>PSI</th>\n",
       "    </tr>\n",
       "  </thead>\n",
       "  <tbody>\n",
       "    <tr>\n",
       "      <td>0</td>\n",
       "      <td>1</td>\n",
       "      <td>0.10</td>\n",
       "      <td>118</td>\n",
       "      <td>107</td>\n",
       "      <td>0.12</td>\n",
       "      <td>0.11</td>\n",
       "      <td>0.00</td>\n",
       "    </tr>\n",
       "    <tr>\n",
       "      <td>1</td>\n",
       "      <td>2</td>\n",
       "      <td>0.20</td>\n",
       "      <td>112</td>\n",
       "      <td>111</td>\n",
       "      <td>0.11</td>\n",
       "      <td>0.11</td>\n",
       "      <td>0.00</td>\n",
       "    </tr>\n",
       "    <tr>\n",
       "      <td>2</td>\n",
       "      <td>3</td>\n",
       "      <td>0.30</td>\n",
       "      <td>100</td>\n",
       "      <td>93</td>\n",
       "      <td>0.10</td>\n",
       "      <td>0.09</td>\n",
       "      <td>0.00</td>\n",
       "    </tr>\n",
       "    <tr>\n",
       "      <td>3</td>\n",
       "      <td>4</td>\n",
       "      <td>0.40</td>\n",
       "      <td>91</td>\n",
       "      <td>106</td>\n",
       "      <td>0.09</td>\n",
       "      <td>0.11</td>\n",
       "      <td>0.00</td>\n",
       "    </tr>\n",
       "    <tr>\n",
       "      <td>4</td>\n",
       "      <td>5</td>\n",
       "      <td>0.50</td>\n",
       "      <td>108</td>\n",
       "      <td>94</td>\n",
       "      <td>0.11</td>\n",
       "      <td>0.09</td>\n",
       "      <td>0.00</td>\n",
       "    </tr>\n",
       "  </tbody>\n",
       "</table>\n",
       "</div>"
      ],
      "text/plain": [
       "   Bucket  Breakpoint Value  trained Count  New Count  trained Percent  \\\n",
       "0       1              0.10            118        107             0.12   \n",
       "1       2              0.20            112        111             0.11   \n",
       "2       3              0.30            100         93             0.10   \n",
       "3       4              0.40             91        106             0.09   \n",
       "4       5              0.50            108         94             0.11   \n",
       "\n",
       "   New Percent  PSI  \n",
       "0         0.11 0.00  \n",
       "1         0.11 0.00  \n",
       "2         0.09 0.00  \n",
       "3         0.11 0.00  \n",
       "4         0.09 0.00  "
      ]
     },
     "execution_count": 47,
     "metadata": {},
     "output_type": "execute_result"
    }
   ],
   "source": [
    "df.head()"
   ]
  },
  {
   "cell_type": "code",
   "execution_count": 48,
   "metadata": {},
   "outputs": [
    {
     "data": {
      "image/png": "[encoded data removed]",
      "text/plain": [
       "<Figure size 432x288 with 1 Axes>"
      ]
     },
     "metadata": {},
     "output_type": "display_data"
    }
   ],
   "source": [
    "#Comparing population percents over buckets \n",
    "percents = df[['trained Percent', 'New Percent', 'Bucket']] \\\n",
    "             .melt(id_vars=['Bucket']) \\\n",
    "             .rename(columns={'variable':'Population', 'value':'Percent'})\n",
    "             \n",
    "    \n",
    "percents.head()\n",
    "\n",
    "\n",
    "p = sns.barplot(x=\"Bucket\", y=\"Percent\", hue=\"Population\", data=percents)\n",
    "p.set(xlabel='Bucket', ylabel='Population Percent')\n",
    "sns.despine(left=True)"
   ]
  }
 ],
 "metadata": {
  "kernelspec": {
   "display_name": "Python 3",
   "language": "python",
   "name": "python3"
  },
  "language_info": {
   "codemirror_mode": {
    "name": "ipython",
    "version": 3
   },
   "file_extension": ".py",
   "mimetype": "text/x-python",
   "name": "python",
   "nbconvert_exporter": "python",
   "pygments_lexer": "ipython3",
   "version": "3.7.6"
  },
  "varInspector": {
   "cols": {
    "lenName": 16,
    "lenType": 16,
    "lenVar": 40
   },
   "kernels_config": {
    "python": {
     "delete_cmd_postfix": "",
     "delete_cmd_prefix": "del ",
     "library": "var_list.py",
     "varRefreshCmd": "print(var_dic_list())"
    },
    "r": {
     "delete_cmd_postfix": ") ",
     "delete_cmd_prefix": "rm(",
     "library": "var_list.r",
     "varRefreshCmd": "cat(var_dic_list()) "
    }
   },
   "types_to_exclude": [
    "module",
    "function",
    "builtin_function_or_method",
    "instance",
    "_Feature"
   ],
   "window_display": false
  }
 },
 "nbformat": 4,
 "nbformat_minor": 2
}
